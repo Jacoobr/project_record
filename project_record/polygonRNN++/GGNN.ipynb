{
 "cells": [
  {
   "cell_type": "markdown",
   "metadata": {
    "collapsed": true
   },
   "source": [
    "## GGNN nework "
   ]
  },
  {
   "cell_type": "code",
   "execution_count": null,
   "metadata": {
    "collapsed": true
   },
   "outputs": [],
   "source": [
    "##GGNN propagate stage\n",
    "self.in_state_0 = nn.Sequential(\n",
    "    nn.Linear(in_features=self.state_dim, out_features=self.state_dim),\n",
    "    nn.Tanh(),\n",
    "    nn.Linear(in_features=self.state_dim, out_features=self.state_dim)\n",
    ")\n",
    "self.in_state_1 = nn.Sequential(\n",
    "    nn.Linear(in_features=self.state_dim, out_features=self.state_dim),\n",
    "    nn.Tanh(),\n",
    "    nn.Linear(in_features=self.state_dim, out_features=self.state_dim)\n",
    ")\n",
    "self.in_state_2 = nn.Sequential(\n",
    "    nn.Linear(in_features=self.state_dim, out_features=self.state_dim),\n",
    "    nn.Tanh(),\n",
    "    nn.Linear(in_features=self.state_dim, out_features=self.state_dim)\n",
    ")\n",
    "self.out_state_0 = nn.Sequential(\n",
    "    nn.Linear(in_features=self.state_dim, out_features=self.state_dim),\n",
    "    nn.Tanh(),\n",
    "    nn.Linear(in_features=self.state_dim, out_features=self.state_dim)\n",
    ")\n",
    "self.out_state_1 = nn.Sequential(\n",
    "    nn.Linear(in_features=self.state_dim, out_features=self.state_dim),\n",
    "    nn.Tanh(),\n",
    "    nn.Linear(in_features=self.state_dim, out_features=self.state_dim)\n",
    ")\n",
    "self.out_state_2 = nn.Sequential(\n",
    "    nn.Linear(in_features=self.state_dim, out_features=self.state_dim),\n",
    "    nn.Tanh(),\n",
    "    nn.Linear(in_features=self.state_dim, out_features=self.state_dim)\n",
    ")\n",
    "def propagate(self, prop_inputs):\n",
    "    '''\n",
    "    prop_inputs: \n",
    "    '''\n",
    "    in_edges_states = torch.cat((self.in_state_0(prop_inputs), self.in_state_1(prop_inputs), self.in_state_2(prop_inputs)),dim=1)\n",
    "    out_edges_states = torch.cat((self.out_state_0(prop_inputs), self.out_state_1(prop_inputs), self.in_state_2(prop_inputs)),dim=1)"
   ]
  }
 ],
 "metadata": {
  "kernelspec": {
   "display_name": "Python 3",
   "language": "python",
   "name": "python3"
  },
  "language_info": {
   "codemirror_mode": {
    "name": "ipython",
    "version": 3
   },
   "file_extension": ".py",
   "mimetype": "text/x-python",
   "name": "python",
   "nbconvert_exporter": "python",
   "pygments_lexer": "ipython3",
   "version": "3.6.3"
  }
 },
 "nbformat": 4,
 "nbformat_minor": 2
}
