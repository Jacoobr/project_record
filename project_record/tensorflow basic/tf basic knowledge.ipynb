{
 "cells": [
  {
   "cell_type": "markdown",
   "metadata": {},
   "source": [
    "## 一. tf基础知识"
   ]
  },
  {
   "cell_type": "markdown",
   "metadata": {},
   "source": [
    "1. 变量(Variable): 常用于定义模型中用于训练的参数，是通过不断训练得到的值。\n",
    "2. 占位符(placeholder):输入变量的载体。可理解为定义函数时的参数。使用tf.placeholder为这些操作创建占位符。然后使用feed_dict把具体值放入到占位符里。\n",
    "3. 图(Graph)中节点操作(OP):即一个OP获得0个tensor或多个，执行计算，输出0个或多个tensor。\n",
    "4. **在tf中一个\"图\"代表一个计算任务。在模型运行环节，图在回话session里被启动。**\n",
    "\n",
    "5. session与图的交互有两种数据的流向机制:\n",
    "    * 注入机制(feed): 通过占位符向模型中传入数据。\n",
    "        ```\n",
    "        import tensorflow as tf\n",
    "        a = tf.placeholder(tf.int16) #占位符\n",
    "        b = tf.placeholder(tf.int16)\n",
    "        mul_op = tf.multiply(a, b)\n",
    "        with tf.Session() as sess:\n",
    "            print(sess.run(mul_op, feed_dict={a: 3, b:4})) #通过执行回话来启动计算\n",
    "        ```\n",
    "    * 取回机制(fetch):从模式中得到结果。\n",
    "        ```\n",
    "        add_op = tf.add(a,b)\n",
    "        mul_op = tf.multiply(a,b)\n",
    "        with tf.Session() as sess:\n",
    "            print(sess.run([mul_op, add_op], feed_dict={a:3, b:4})) # [12, 7]\n",
    "        ```\n",
    "    note: 使用with tf.Session() as sess: 方式,亦或在Jupyter下使用较多的tf = tf.InteractiveSession()，而用Supervisor可以用来自动管理session中的具体任务，eg:载入/载出检查点文件，写入TensorBorad等，并且还支持分布式训练的部署.(**待续**)\n",
    "\n",
    "6. tf指定GPU训练:\n",
    "  * 通过tf.device()来指定\n",
    "    ```\n",
    "    with tf.Session() as sess:\n",
    "        with tf.device(\"/gpu:1\"): #用来指定执行该session的设备 \n",
    "    ```\n",
    "  * 通过tf.ConfigProto来指定\n",
    "    ```\n",
    "    config = tf.ConfigProto(log_device_placement=True, all_soft_placement=True) #(gpu_options = tf.GPUOptions(allow_growth=True)) #设置GPU按需分配\n",
    "    sess = tf.Session(config=config, ...)\n",
    "    ```\n",
    "7. tf通过saver.save保存模型:\n",
    "     ```\n",
    "     #之前为定义的各种用于构建模型graph的操作(矩阵相乘，sigmoid激活函数，softmax分类函数等)\n",
    "     saver = tf.train.Saver()\n",
    "     with tf.Session() as sess:\n",
    "         sess.run(tf.global_variables_initializer()) #对模型参数进行初始化\n",
    "         ##训练模型\n",
    "         ##使用saver.save()来保存模型\n",
    "         saver.save(sess, \"save_path/file_name\")\n",
    "     ```\n",
    "8. tf通过saver.restore载入模型\n",
    "    ```\n",
    "    saver = tf.train.Saver()\n",
    "    with tf.Session() as sess:\n",
    "        sess.run(tf.global_variable_initializer())\n",
    "        saver.restore(sess.\"save_path/file_name\")\n",
    "    ```\n",
    "    \n",
    "    "
   ]
  },
  {
   "cell_type": "markdown",
   "metadata": {},
   "source": []
  }
 ],
 "metadata": {
  "kernelspec": {
   "display_name": "Python 3",
   "language": "python",
   "name": "python3"
  },
  "language_info": {
   "codemirror_mode": {
    "name": "ipython",
    "version": 3
   },
   "file_extension": ".py",
   "mimetype": "text/x-python",
   "name": "python",
   "nbconvert_exporter": "python",
   "pygments_lexer": "ipython3",
   "version": "3.6.2"
  }
 },
 "nbformat": 4,
 "nbformat_minor": 2
}
