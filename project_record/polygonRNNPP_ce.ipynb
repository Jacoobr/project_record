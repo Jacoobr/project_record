{
 "cells": [
  {
   "cell_type": "markdown",
   "metadata": {},
   "source": [
    "## handle the parameter of command line"
   ]
  },
  {
   "cell_type": "code",
   "execution_count": null,
   "metadata": {
    "collapsed": true
   },
   "outputs": [],
   "source": [
    "import argparse\n",
    "def get_args():\n",
    "    parser =argparse.ArgumentParser() #get ArgumentParser object\n",
    "    parser.add_argument('--exp', type=str)\n",
    "    parser.add_argument('--lr', type=int)\n",
    "    ...\n",
    "    args = parser.parser_args()# handle the parser as an object with argument attribute\n",
    "    return args\n",
    "\n",
    "#use the args object, FEP, --exp parameter point to a json config file\n",
    "...\n",
    "opts = json.load(open(args.exp, 'r')) # get the --exp argument value by '.' op like args.exp\n",
    "    \n",
    "    "
   ]
  },
  {
   "cell_type": "code",
   "execution_count": null,
   "metadata": {
    "collapsed": true
   },
   "outputs": [],
   "source": []
  }
 ],
 "metadata": {
  "anaconda-cloud": {},
  "kernelspec": {
   "display_name": "Python [default]",
   "language": "python",
   "name": "python3"
  },
  "language_info": {
   "codemirror_mode": {
    "name": "ipython",
    "version": 3
   },
   "file_extension": ".py",
   "mimetype": "text/x-python",
   "name": "python",
   "nbconvert_exporter": "python",
   "pygments_lexer": "ipython3",
   "version": "3.5.2"
  }
 },
 "nbformat": 4,
 "nbformat_minor": 1
}
