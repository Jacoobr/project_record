{
 "cells": [
  {
   "cell_type": "markdown",
   "metadata": {},
   "source": [
    "## LeNet"
   ]
  },
  {
   "cell_type": "markdown",
   "metadata": {},
   "source": [
    "LeNet阅读参考: [LeNet](https://cuijiahua.com/blog/2018/01/dl_3.html）"
   ]
  },
  {
   "cell_type": "markdown",
   "metadata": {},
   "source": [
    "## AleNet"
   ]
  },
  {
   "cell_type": "code",
   "execution_count": null,
   "metadata": {
    "collapsed": true
   },
   "outputs": [],
   "source": [
    "网络架构：\n",
    " \n",
    "网络具体参数：8 layers\n",
    "\n",
    "Note: Conv1、Conv2、Conv4以及Conv5使用并行操作(2 GPUs)；Conv3、FC6、FC7以及FC8在每块GPU上使用了所有的feature.（？）\n",
    " \n",
    "网络突出创新点：\n",
    "a.第一个使用ReLU修正线性单元的网络;\n",
    "b.使用了Local Response Normalization Layers, LRN层\n",
    "c.它使用了很多数据增广（data augmentation）技术，比如翻转（flipping）、PCA Jittering、随机裁切（cropping）、颜色归一化（color normalization）等等；\n",
    "d.使用了0.5的dropout；\n",
    "e.batch size为128；\n",
    "f.SGD Momentum为0.9；\n",
    "g.学习率为0.01，每次loss不降的时候手动除以10，直到最后收敛；\n",
    "h.L2 weight decay为5e-4；\n",
    "i.使用7个CNN ensemble（多次训练模型取均值）\n"
   ]
  }
 ],
 "metadata": {
  "kernelspec": {
   "display_name": "Python 3",
   "language": "python",
   "name": "python3"
  },
  "language_info": {
   "codemirror_mode": {
    "name": "ipython",
    "version": 3
   },
   "file_extension": ".py",
   "mimetype": "text/x-python",
   "name": "python",
   "nbconvert_exporter": "python",
   "pygments_lexer": "ipython3",
   "version": "3.6.3"
  }
 },
 "nbformat": 4,
 "nbformat_minor": 2
}
