{
 "cells": [
  {
   "cell_type": "markdown",
   "metadata": {},
   "source": [
    "## rnn steps of conv_lstm.py "
   ]
  },
  {
   "cell_type": "code",
   "execution_count": null,
   "metadata": {
    "collapsed": true
   },
   "outputs": [],
   "source": [
    "\n",
    "def rnn_step(self, t, input_x, cur_state): #\n",
    "    '''\n",
    "    t:time step\n",
    "    input_x tensor: [b_s, in_channels, in_w, in_h]\n",
    "    cur_state list: [[[b_s, c_i_channels, in_w,in_h], [b_s, h_i_channels]], [[b_s, c_i+1_channels, in_w,in_h], [b_s, h_i+1_channels]], ...]\n",
    "    '''\n",
    "    out_status = []\n",
    "    for l range(self.n_layers):\n",
    "        h_cur, c_cur = cur_state[l] #get the pre status info\n",
    "        #handle the input for sequence step\n",
    "        if l==0:\n",
    "            inp = input_x\n",
    "        else:\n",
    "            inp = out_status[l-1][0] #except the begin step of lstm\n",
    "        x_conv = sefl.conv_x[l](inp)\n",
    "        if self.use_bn:\n",
    "            x_conv = self.bn_x[t][l](x_conv)\n",
    "        c_conv = self.conv_h[l](h_cur)  #*why use h_cur for other steps*\n",
    "        \n",
    "        i,f, o, u = torch.split((x_conv+c_conv), self.hidden_dim[l], dim=1)\n",
    "        ## convLstm formula\n",
    "        c = F.sigmoid(f) * c_cur + F.sigmoid(i) * F.tanh(u) #statu accumulator\n",
    "        if self.use_bn:\n",
    "            h = o * F.tanh(self.bn_c[t][l](c))\n",
    "        else:\n",
    "            h = o * F.tanh(c)\n",
    "        out_status.append([h, c])\n",
    "    return out_status"
   ]
  }
 ],
 "metadata": {
  "kernelspec": {
   "display_name": "Python 3",
   "language": "python",
   "name": "python3"
  },
  "language_info": {
   "codemirror_mode": {
    "name": "ipython",
    "version": 3
   },
   "file_extension": ".py",
   "mimetype": "text/x-python",
   "name": "python",
   "nbconvert_exporter": "python",
   "pygments_lexer": "ipython3",
   "version": "3.6.3"
  }
 },
 "nbformat": 4,
 "nbformat_minor": 2
}
